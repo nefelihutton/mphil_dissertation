{
 "cells": [
  {
   "cell_type": "code",
   "execution_count": null,
   "metadata": {},
   "outputs": [],
   "source": [
    "import os \n",
    "import numpy as np\n",
    "import json"
   ]
  },
  {
   "cell_type": "markdown",
   "metadata": {},
   "source": [
    "Read in data dir"
   ]
  },
  {
   "cell_type": "code",
   "execution_count": null,
   "metadata": {},
   "outputs": [],
   "source": [
    "seg_dir = \"path/to/segmentation_output/\"\n",
    "seg_files = os.listdir(seg_dir)"
   ]
  },
  {
   "cell_type": "markdown",
   "metadata": {},
   "source": [
    "For every feature, you want to save the output as an .npy file and plot whatever that comes out"
   ]
  },
  {
   "cell_type": "code",
   "execution_count": null,
   "metadata": {},
   "outputs": [],
   "source": [
    "from cell_size import find_alphashape\n",
    "from helper import find_timestamp\n",
    "\n",
    "shape_dict = {find_timestamp(str(f)): find_alphashape(np.load(os.path.join(seg_dir, f))).tolist() for f in os.listdir(seg_dir)}"
   ]
  },
  {
   "cell_type": "code",
   "execution_count": null,
   "metadata": {},
   "outputs": [],
   "source": [
    "from cell_size import find_mask_area\n",
    "from cell_size import find_mask_perimeter\n",
    "from cell_size import feret_diameter\n",
    "\n",
    "area_dict = {time:find_mask_area(shape) for time,shape in shape_dict.items()}\n",
    "perimeter_dict = {time:find_mask_perimeter(shape) for time,shape in shape_dict.items()}\n",
    "feret_dict = {time:feret_diameter(shape) for time,shape in shape_dict.items()}\n",
    "\n",
    "with open('/content/drive/MyDrive/mphil/preprocessed_xfer_data/17-07-18-04hypoxia8days_oxygenupatend/area_dict.json', 'w') as fp:\n",
    "    json.dump(area_dict, fp)\n",
    "\n",
    "with open('/content/drive/MyDrive/mphil/preprocessed_xfer_data/17-07-18-04hypoxia8days_oxygenupatend/perimeter_dict.json', 'w') as fp:\n",
    "    json.dump(perimeter_dict, fp)\n",
    "\n",
    "with open('/content/drive/MyDrive/mphil/preprocessed_xfer_data/17-07-18-04hypoxia8days_oxygenupatend/feret_dict.json', 'w') as fp:\n",
    "    json.dump(feret_dict, fp)"
   ]
  },
  {
   "cell_type": "code",
   "execution_count": null,
   "metadata": {},
   "outputs": [],
   "source": [
    "import math\n",
    "from shape import compactness\n",
    "from shape import solidity"
   ]
  },
  {
   "cell_type": "markdown",
   "metadata": {},
   "source": [
    "### Edges, Shape signatures and the rest"
   ]
  },
  {
   "cell_type": "code",
   "execution_count": null,
   "metadata": {},
   "outputs": [],
   "source": [
    "from edges import find_edge\n",
    "edge_dict = {time:find_edge(shape) for time,shape in shape_dict.items()}"
   ]
  },
  {
   "cell_type": "code",
   "execution_count": null,
   "metadata": {},
   "outputs": [],
   "source": [
    "from edges import get_distance_centroid\n",
    "\n",
    "shapesig_dict = {}\n",
    "\n",
    "for time,edges in edge_dict.items():\n",
    "    # edges is an array of edge_coordinates for all the masks\n",
    "    # we are trying to get shape signatures of all the masks \n",
    "    shape_sigs = []\n",
    "    for i in range(len(edges)):\n",
    "        # make shape array\n",
    "        shape_signature = get_distance_centroid(edges[i])\n",
    "        shape_sigs.append(shape_signature)\n",
    "    shapesig_dict[time] = shape_sigs"
   ]
  },
  {
   "cell_type": "markdown",
   "metadata": {},
   "source": [
    "Intensity distribution"
   ]
  },
  {
   "cell_type": "code",
   "execution_count": null,
   "metadata": {},
   "outputs": [],
   "source": [
    "from intensity_distribution import find_skewness\n",
    "\n",
    "for time, shapesig in shapesig_dict.items():\n",
    "    for i in range(len(shapesig)):\n",
    "        skew_val = find_skewness(shapesig[i])\n",
    "\n",
    "\n",
    "skew_dict = {time:find_skewness(shapesigs) for time, shapesigs in shapesig_dict.items()}"
   ]
  }
 ],
 "metadata": {
  "kernelspec": {
   "display_name": "Python 3.7.0 ('mphil_shape')",
   "language": "python",
   "name": "python3"
  },
  "language_info": {
   "name": "python",
   "version": "3.7.0"
  },
  "orig_nbformat": 4,
  "vscode": {
   "interpreter": {
    "hash": "34f3b8600725f2906c689da10e131faa398063cf9842adcbd5f39726238c39b3"
   }
  }
 },
 "nbformat": 4,
 "nbformat_minor": 2
}
