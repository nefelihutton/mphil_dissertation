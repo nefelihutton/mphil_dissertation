{
 "cells": [
  {
   "cell_type": "code",
   "execution_count": 5,
   "metadata": {},
   "outputs": [
    {
     "ename": "ImportError",
     "evalue": "dlopen(/Users/soo-jeongkim/opt/anaconda3/envs/mphil_shape/lib/python3.7/site-packages/PIL/_imaging.cpython-37m-darwin.so, 2): Library not loaded: @rpath/libjpeg.9.dylib\n  Referenced from: /Users/soo-jeongkim/opt/anaconda3/envs/mphil_shape/lib/python3.7/site-packages/PIL/_imaging.cpython-37m-darwin.so\n  Reason: Incompatible library version: _imaging.cpython-37m-darwin.so requires version 14.0.0 or later, but libjpeg.9.dylib provides version 12.0.0",
     "output_type": "error",
     "traceback": [
      "\u001b[0;31m---------------------------------------------------------------------------\u001b[0m",
      "\u001b[0;31mImportError\u001b[0m                               Traceback (most recent call last)",
      "\u001b[0;32m/var/folders/l_/v1m5mfnd3hb_3l25dw4j24x00000gn/T/ipykernel_17449/4180643819.py\u001b[0m in \u001b[0;36m<module>\u001b[0;34m\u001b[0m\n\u001b[1;32m     13\u001b[0m \u001b[0;32mfrom\u001b[0m \u001b[0mscipy\u001b[0m \u001b[0;32mimport\u001b[0m \u001b[0mndimage\u001b[0m \u001b[0;32mas\u001b[0m \u001b[0mndi\u001b[0m\u001b[0;34m\u001b[0m\u001b[0m\n\u001b[1;32m     14\u001b[0m \u001b[0;34m\u001b[0m\u001b[0m\n\u001b[0;32m---> 15\u001b[0;31m \u001b[0;32mfrom\u001b[0m \u001b[0mcoco\u001b[0m \u001b[0;32mimport\u001b[0m \u001b[0mvisualise_anns\u001b[0m\u001b[0;34m,\u001b[0m \u001b[0mcoco_to_binary\u001b[0m\u001b[0;34m,\u001b[0m \u001b[0mprocAnns\u001b[0m\u001b[0;34m\u001b[0m\u001b[0m\n\u001b[0m",
      "\u001b[0;32m~/Documents/mphil_shape/static/coco/coco.py\u001b[0m in \u001b[0;36m<module>\u001b[0;34m\u001b[0m\n\u001b[1;32m      5\u001b[0m \u001b[0;34m\u001b[0m\u001b[0m\n\u001b[1;32m      6\u001b[0m \u001b[0;34m\u001b[0m\u001b[0m\n\u001b[0;32m----> 7\u001b[0;31m \u001b[0;32mfrom\u001b[0m \u001b[0mPIL\u001b[0m \u001b[0;32mimport\u001b[0m \u001b[0mImage\u001b[0m\u001b[0;34m\u001b[0m\u001b[0m\n\u001b[0m\u001b[1;32m      8\u001b[0m \u001b[0;32mimport\u001b[0m \u001b[0mnumpy\u001b[0m \u001b[0;32mas\u001b[0m \u001b[0mnp\u001b[0m\u001b[0;34m\u001b[0m\u001b[0m\n\u001b[1;32m      9\u001b[0m \u001b[0;32mfrom\u001b[0m \u001b[0mmatplotlib\u001b[0m \u001b[0;32mimport\u001b[0m \u001b[0mpyplot\u001b[0m \u001b[0;32mas\u001b[0m \u001b[0mplt\u001b[0m\u001b[0;34m\u001b[0m\u001b[0m\n",
      "\u001b[0;32m~/opt/anaconda3/envs/mphil_shape/lib/python3.7/site-packages/PIL/Image.py\u001b[0m in \u001b[0;36m<module>\u001b[0;34m\u001b[0m\n\u001b[1;32m     87\u001b[0m     \u001b[0;31m# Also note that Image.core is not a publicly documented interface,\u001b[0m\u001b[0;34m\u001b[0m\u001b[0;34m\u001b[0m\u001b[0m\n\u001b[1;32m     88\u001b[0m     \u001b[0;31m# and should be considered private and subject to change.\u001b[0m\u001b[0;34m\u001b[0m\u001b[0;34m\u001b[0m\u001b[0m\n\u001b[0;32m---> 89\u001b[0;31m     \u001b[0;32mfrom\u001b[0m \u001b[0;34m.\u001b[0m \u001b[0;32mimport\u001b[0m \u001b[0m_imaging\u001b[0m \u001b[0;32mas\u001b[0m \u001b[0mcore\u001b[0m\u001b[0;34m\u001b[0m\u001b[0m\n\u001b[0m\u001b[1;32m     90\u001b[0m \u001b[0;34m\u001b[0m\u001b[0m\n\u001b[1;32m     91\u001b[0m     \u001b[0;32mif\u001b[0m \u001b[0m__version__\u001b[0m \u001b[0;34m!=\u001b[0m \u001b[0mgetattr\u001b[0m\u001b[0;34m(\u001b[0m\u001b[0mcore\u001b[0m\u001b[0;34m,\u001b[0m \u001b[0;34m\"PILLOW_VERSION\"\u001b[0m\u001b[0;34m,\u001b[0m \u001b[0;32mNone\u001b[0m\u001b[0;34m)\u001b[0m\u001b[0;34m:\u001b[0m\u001b[0;34m\u001b[0m\u001b[0m\n",
      "\u001b[0;31mImportError\u001b[0m: dlopen(/Users/soo-jeongkim/opt/anaconda3/envs/mphil_shape/lib/python3.7/site-packages/PIL/_imaging.cpython-37m-darwin.so, 2): Library not loaded: @rpath/libjpeg.9.dylib\n  Referenced from: /Users/soo-jeongkim/opt/anaconda3/envs/mphil_shape/lib/python3.7/site-packages/PIL/_imaging.cpython-37m-darwin.so\n  Reason: Incompatible library version: _imaging.cpython-37m-darwin.so requires version 14.0.0 or later, but libjpeg.9.dylib provides version 12.0.0"
     ]
    }
   ],
   "source": [
    "import os \n",
    "import json\n",
    "from pycocotools.coco import COCO\n",
    "from pycocotools import mask\n",
    "\n",
    "from PIL import Image\n",
    "import numpy as np\n",
    "from matplotlib import pyplot as plt\n",
    "from matplotlib.collections import PatchCollection\n",
    "from matplotlib.patches import Polygon\n",
    "\n",
    "from skimage import measure\n",
    "from scipy import ndimage as ndi\n",
    "\n",
    "from coco import visualise_anns, coco_to_binary, procAnns"
   ]
  },
  {
   "cell_type": "markdown",
   "metadata": {},
   "source": [
    "### Processing annotations on h-minima imposition and filtering based on distance threshold"
   ]
  },
  {
   "cell_type": "code",
   "execution_count": null,
   "metadata": {},
   "outputs": [],
   "source": [
    "annFile = \"/content/drive/MyDrive/mphil/preprocessed_xfer_data/annotations/coco_first_annot-4.json\"\n",
    "img_dir = \"drive/MyDrive/segmentation/xfer_images/proc_img_xfer/\"\n",
    "\n",
    "coco = COCO(annFile)\n",
    "image_id = 59\n",
    "img = coco.imgs[image_id]\n",
    "img_ids = coco.getImgIds()\n",
    "cat_ids = coco.getCatIds()\n",
    "anns_ids = coco.getAnnIds(imgIds=img['id'], catIds=cat_ids, iscrowd=None)\n",
    "anns = coco.loadAnns(anns_ids) # load anno\n",
    "\n",
    "# FYI example on how to use -\n",
    "img_dir = \"drive/MyDrive/segmentation/xfer_images/proc_img_xfer/\"\n",
    "image = np.array(Image.open(os.path.join(img_dir, img['file_name'])))\n",
    "plt.imshow(image, interpolation='nearest')\n",
    "visualise_anns(anns)\n",
    "\n",
    "# instead of - \n",
    "image = np.array(Image.open(os.path.join(img_dir, img['file_name'])))\n",
    "plt.imshow(image, interpolation='nearest')\n",
    "coco.showAnns(anns)\n",
    "\n",
    "procAnns(anns)\n",
    "anns_ids = [coco.getAnnIds(imgIds=id, catIds=cat_ids, iscrowd=None) for id in img_ids]\n",
    "anns = coco.loadAnns(anns_ids) # load anno\n",
    "# the new annotation file is called coco-annotations-5.json(something like this)\n",
    "\n",
    "all_imganns = []\n",
    "for id in img_ids:\n",
    "  img = coco.imgs[id]\n",
    "  anns_ids = coco.getAnnIds(imgIds=img['id'], catIds=cat_ids, iscrowd=None)\n",
    "  anns = coco.loadAnns(anns_ids) # load anno\n",
    "  ann_image = procAnns(anns)\n",
    "  all_imganns.append(ann_image)\n",
    "\n",
    "# Run \n",
    "coco = COCO(annFile)\n",
    "img_ids = coco.getImgIds()\n",
    "cat_ids = coco.getCatIds()\n",
    "\n",
    "all_imganns = []\n",
    "for id in img_ids:\n",
    "  img = coco.imgs[id]\n",
    "  anns_ids = coco.getAnnIds(imgIds=img['id'], catIds=cat_ids, iscrowd=None)\n",
    "  anns = coco.loadAnns(anns_ids) # load anno\n",
    "  annotations = procAnns(anns)\n",
    "  all_imganns.append(annotations)\n",
    "\n",
    "flat_list = [x for xs in all_imganns for x in xs]\n",
    "\n",
    "with open(annFile, 'r') as f:\n",
    "  ann_dict = json.load(f)\n",
    "\n",
    "ann_dict['annotations'] = flat_list\n",
    "# save new dict\n",
    "with open(\"/content/drive/MyDrive/LIVECell/annotations/coco_first_annot-11.json\", \"w\") as json_file:\n",
    "    json.dump(ann_dict, json_file)\n",
    "\n",
    "# Sanity check\n",
    "new_ann =  \"/content/drive/MyDrive/LIVECell/annotations/coco_first_annot-11.json\"\n",
    "\n",
    "coco = COCO(new_ann)\n",
    "img_ids = coco.getImgIds()\n",
    "image_id = 59\n",
    "img = coco.imgs[image_id]\n",
    "cat_ids = coco.getCatIds()\n",
    "anns_ids = coco.getAnnIds(imgIds=img['id'], catIds=cat_ids, iscrowd=None)\n",
    "anns = coco.loadAnns(anns_ids) # load anno\n",
    "# annotations = procAnns(anns) # this is annotation of the last mask in the image\n",
    "\n",
    "image = np.array(Image.open(os.path.join(img_dir, img['file_name'])))\n",
    "plt.imshow(image, interpolation='nearest')\n",
    "coco.showAnns(anns)"
   ]
  }
 ],
 "metadata": {
  "interpreter": {
   "hash": "34f3b8600725f2906c689da10e131faa398063cf9842adcbd5f39726238c39b3"
  },
  "kernelspec": {
   "display_name": "Python 3.7.0 ('mphil_shape')",
   "language": "python",
   "name": "python3"
  },
  "language_info": {
   "codemirror_mode": {
    "name": "ipython",
    "version": 3
   },
   "file_extension": ".py",
   "mimetype": "text/x-python",
   "name": "python",
   "nbconvert_exporter": "python",
   "pygments_lexer": "ipython3",
   "version": "3.7.0"
  },
  "orig_nbformat": 4
 },
 "nbformat": 4,
 "nbformat_minor": 2
}
